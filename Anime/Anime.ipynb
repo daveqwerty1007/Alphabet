{
 "cells": [
  {
   "cell_type": "code",
   "execution_count": null,
   "id": "37b0a62b",
   "metadata": {
    "vscode": {
     "languageId": "plaintext"
    }
   },
   "outputs": [],
   "source": [
    "import pandas as pd\n",
    "from sklearn.neighbors import NearestNeighbors"
   ]
  },
  {
   "cell_type": "code",
   "execution_count": null,
   "id": "b6ece356",
   "metadata": {
    "vscode": {
     "languageId": "plaintext"
    }
   },
   "outputs": [],
   "source": [
    "# Load datasets\n",
    "animelist = pd.read_csv('/anime/animelist.csv')\n",
    "anime = pd.read_csv('/anime/anime.csv')\n",
    "\n",
    "# preping data\n",
    "merged_data = pd.merge(animelist, anime, left_on='anime_id', right_on='MAL_ID')\n",
    "user_anime_matrix = merged_data.pivot_table(index='user_id', columns='Name', values='score').fillna(0)\n",
    "\n",
    "# Fit KNN model\n",
    "knn = NearestNeighbors(metric='cosine', algorithm='brute')\n",
    "knn.fit(user_anime_matrix.values)\n",
    "\n",
    "# Find the nearest neighbors for each anime\n",
    "distances, indices = knn.kneighbors(user_anime_matrix.values, n_neighbors=6)\n",
    "\n",
    "# Function to predict ratings\n",
    "def predict_ratings(user_index, movie_index, indices, distances, user_anime_matrix):\n",
    "    sim_movies = indices[movie_index].tolist()\n",
    "    movie_distances = distances[movie_index].tolist()\n",
    "    \n",
    "    # Exclude the movie itself from the similarity list\n",
    "    if movie_index in sim_movies:\n",
    "        id_movie = sim_movies.index(movie_index)\n",
    "        sim_movies.remove(movie_index)\n",
    "        movie_distances.pop(id_movie)\n",
    "    \n",
    "    movie_similarity = [1 - x for x in movie_distances]\n",
    "    movie_similarity_copy = movie_similarity.copy()\n",
    "    nominator = 0\n",
    "    \n",
    "    for s in range(0, len(movie_similarity)):\n",
    "        if user_anime_matrix.iloc[user_index, sim_movies[s]] == 0:\n",
    "            movie_similarity_copy.pop(s)\n",
    "        else:\n",
    "            nominator += movie_similarity[s] * user_anime_matrix.iloc[user_index, sim_movies[s]]\n",
    "    \n",
    "    if len(movie_similarity_copy) > 0:\n",
    "        predicted_rating = nominator / sum(movie_similarity_copy)\n",
    "    else:\n",
    "        predicted_rating = 0\n",
    "    \n",
    "    return predicted_rating\n",
    "\n",
    "# Predict ratings for given anime matrix\n",
    "user_index = 0 \n",
    "predicted_ratings = []\n",
    "for i in range(user_anime_matrix.shape[1]):\n",
    "    if user_anime_matrix.iloc[user_index, i] == 0:\n",
    "        predicted_ratings.append((user_anime_matrix.columns[i], \n",
    "                                  predict_ratings(user_index, i, indices, distances, user_anime_matrix)))\n",
    "\n",
    "# Get top 5 recommendations\n",
    "recommendations = sorted(predicted_ratings, key=lambda x: x[1], reverse=True)[:5]\n",
    "\n",
    "# Create the recommendation dataframe\n",
    "recommendation_df = pd.DataFrame(recommendations, columns=['Name', 'Predicted Score'])\n",
    "recommendation_df = recommendation_df.merge(anime[['Name', 'MAL_ID', 'Score', 'Type', 'Source', 'synopsis']], on='Name')\n",
    "\n",
    "print(recommendation_df)\n"
   ]
  }
 ],
 "metadata": {
  "language_info": {
   "name": "python"
  }
 },
 "nbformat": 4,
 "nbformat_minor": 5
}
