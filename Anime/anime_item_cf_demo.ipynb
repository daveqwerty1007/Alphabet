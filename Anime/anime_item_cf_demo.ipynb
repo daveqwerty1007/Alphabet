{
 "cells": [
  {
   "cell_type": "markdown",
   "id": "31714da1",
   "metadata": {},
   "source": [
    "\n",
    "# Anime Item-Based Collaborative Filtering Recommender System\n",
    "\n",
    "This notebook builds a simple **item‑based collaborative filtering (CF) model** for recommending anime titles.\n",
    "\n",
    "The goal is to simulate how a recommender system could be built when you don't have access to user identifiers during cold‑start (e.g., during onboarding). Instead of finding similar users, the model recommends new titles based on the similarities between the items themselves (anime series).\n",
    "\n",
    "In a real production scenario you would start from large tables like `animelist.csv`, `rating_complete.csv` and `anime.csv`. Those files contain tens of millions of user interactions and rich metadata. For illustration purposes this notebook creates a **tiny synthetic dataset** that follows the same structure but is small enough to run quickly.  You can later replace the synthetic data with the full datasets once they are available.\n"
   ]
  },
  {
   "cell_type": "code",
   "execution_count": null,
   "id": "1d8e8260",
   "metadata": {},
   "outputs": [],
   "source": [
    "\n",
    "import pandas as pd\n",
    "import numpy as np\n",
    "from sklearn.metrics.pairwise import cosine_similarity\n",
    "\n",
    "pd.set_option('display.max_rows', None)\n",
    "pd.set_option('display.max_columns', None)\n"
   ]
  },
  {
   "cell_type": "markdown",
   "id": "fe046af9",
   "metadata": {},
   "source": [
    "\n",
    "## 1. Prepare the data\n",
    "\n",
    "We create two small tables:\n",
    "\n",
    "1. `anime_metadata` – contains information about each anime, analogous to `anime.csv`.  In the real task this would include fields like MAL_ID, Name, Score, Type, Source and Synopsis.  Here we provide a few example titles.\n",
    "2. `ratings` – contains user interactions (user_id, anime_id, score).  This mirrors the structure of `animelist.csv` and `rating_complete.csv`, but with a handful of users instead of millions.\n",
    "\n",
    "Feel free to expand these tables or load the real data if you have the files available.  The workflow remains the same.\n"
   ]
  },
  {
   "cell_type": "code",
   "execution_count": null,
   "id": "de51ea64",
   "metadata": {},
   "outputs": [],
   "source": [
    "\n",
    "# Sample anime metadata (analogous to anime.csv)\n",
    "anime_metadata = pd.DataFrame([\n",
    "    {\"MAL_ID\": 20, \"Name\": \"Naruto\", \"Score\": 7.9, \"Type\": \"TV\", \"Source\": \"Manga\", \"Synopsis\": \"A young ninja strives to become the leader of his village.\"},\n",
    "    {\"MAL_ID\": 21, \"Name\": \"One Piece\", \"Score\": 8.5, \"Type\": \"TV\", \"Source\": \"Manga\", \"Synopsis\": \"A boy with rubber powers searches for the ultimate treasure.\"},\n",
    "    {\"MAL_ID\": 3,  \"Name\": \"Death Note\", \"Score\": 8.6, \"Type\": \"TV\", \"Source\": \"Manga\", \"Synopsis\": \"A notebook allows its owner to kill anyone simply by writing their name.\"},\n",
    "    {\"MAL_ID\": 4,  \"Name\": \"Attack on Titan\", \"Score\": 9.1, \"Type\": \"TV\", \"Source\": \"Manga\", \"Synopsis\": \"Humans fight for survival inside walled cities against giant humanoids.\"},\n",
    "    {\"MAL_ID\": 2,  \"Name\": \"Fullmetal Alchemist: Brotherhood\", \"Score\": 9.2, \"Type\": \"TV\", \"Source\": \"Manga\", \"Synopsis\": \"Two brothers search for the Philosopher's Stone after a failed alchemy experiment.\"},\n",
    "    {\"MAL_ID\": 5,  \"Name\": \"Steins;Gate\", \"Score\": 9.1, \"Type\": \"TV\", \"Source\": \"Visual Novel\", \"Synopsis\": \"A group of friends discover time travel and face unforeseen consequences.\"},\n",
    "    {\"MAL_ID\": 6,  \"Name\": \"My Hero Academia\", \"Score\": 7.9, \"Type\": \"TV\", \"Source\": \"Manga\", \"Synopsis\": \"In a world where super powers are the norm, a powerless boy dreams of becoming a hero.\"},\n",
    "    {\"MAL_ID\": 7,  \"Name\": \"Cowboy Bebop\", \"Score\": 8.8, \"Type\": \"TV\", \"Source\": \"Original\", \"Synopsis\": \"A ragtag crew of bounty hunters travel the galaxy in search of criminals.\"},\n",
    "    {\"MAL_ID\": 8,  \"Name\": \"Demon Slayer\", \"Score\": 8.7, \"Type\": \"TV\", \"Source\": \"Manga\", \"Synopsis\": \"A boy becomes a demon slayer after his family is slaughtered.\"},\n",
    "    {\"MAL_ID\": 22, \"Name\": \"Hunter x Hunter\", \"Score\": 9.0, \"Type\": \"TV\", \"Source\": \"Manga\", \"Synopsis\": \"A young boy embarks on a journey to find his father by becoming a Hunter.\"},\n",
    "])\n",
    "anime_metadata\n"
   ]
  },
  {
   "cell_type": "code",
   "execution_count": null,
   "id": "104b47d2",
   "metadata": {},
   "outputs": [],
   "source": [
    "\n",
    "# Sample user‑item interactions (analogous to rating_complete.csv)\n",
    "ratings = pd.DataFrame([\n",
    "    {\"user_id\": 1, \"anime_id\": 20, \"score\": 9},  # Naruto\n",
    "    {\"user_id\": 1, \"anime_id\": 21, \"score\": 8},  # One Piece\n",
    "    {\"user_id\": 1, \"anime_id\": 22, \"score\": 10}, # Hunter x Hunter\n",
    "    {\"user_id\": 2, \"anime_id\": 3,  \"score\": 7},  # Death Note\n",
    "    {\"user_id\": 2, \"anime_id\": 5,  \"score\": 9},  # Steins;Gate\n",
    "    {\"user_id\": 2, \"anime_id\": 4,  \"score\": 8},  # Attack on Titan\n",
    "    {\"user_id\": 3, \"anime_id\": 2,  \"score\": 10}, # Fullmetal Alchemist: Brotherhood\n",
    "    {\"user_id\": 3, \"anime_id\": 22, \"score\": 9},  # Hunter x Hunter\n",
    "    {\"user_id\": 3, \"anime_id\": 6,  \"score\": 7},  # My Hero Academia\n",
    "    {\"user_id\": 4, \"anime_id\": 7,  \"score\": 8},  # Cowboy Bebop\n",
    "    {\"user_id\": 4, \"anime_id\": 8,  \"score\": 9},  # Demon Slayer\n",
    "    {\"user_id\": 4, \"anime_id\": 20, \"score\": 6},  # Naruto\n",
    "    {\"user_id\": 5, \"anime_id\": 4,  \"score\": 7},  # Attack on Titan\n",
    "    {\"user_id\": 5, \"anime_id\": 20, \"score\": 9},  # Naruto\n",
    "    {\"user_id\": 5, \"anime_id\": 2,  \"score\": 8},  # Fullmetal Alchemist: Brotherhood\n",
    "])\n",
    "ratings\n"
   ]
  },
  {
   "cell_type": "markdown",
   "id": "b5923c9f",
   "metadata": {},
   "source": [
    "\n",
    "## 2. Create the user–item matrix\n",
    "\n",
    "An item‑based CF model operates on an **item–item similarity matrix**.  To build it we first pivot the ratings into a table where each row corresponds to a user and each column corresponds to an anime.  Missing ratings are filled with zeros.\n"
   ]
  },
  {
   "cell_type": "code",
   "execution_count": null,
   "id": "bfb7d070",
   "metadata": {},
   "outputs": [],
   "source": [
    "\n",
    "# Create user–item matrix (users as rows, anime as columns)\n",
    "user_item_matrix = ratings.pivot_table(index='user_id', columns='anime_id', values='score', fill_value=0)\n",
    "\n",
    "# For demonstration, show the matrix with anime names rather than IDs\n",
    "matrix_named = user_item_matrix.copy()\n",
    "matrix_named.columns = [anime_metadata.set_index('MAL_ID').loc[col, 'Name'] for col in matrix_named.columns]\n",
    "matrix_named\n"
   ]
  },
  {
   "cell_type": "markdown",
   "id": "a6291392",
   "metadata": {},
   "source": [
    "\n",
    "## 3. Compute the item–item similarity matrix\n",
    "\n",
    "We use cosine similarity to measure how similar two anime series are based on their user rating vectors.  Cosine similarity ranges from 0 (no similarity) to 1 (identical).  Before computing similarities we normalize the rating vectors to remove popularity bias.\n",
    "\n",
    "Since our dataset is very small, we can compute the full similarity matrix directly with `sklearn.metrics.pairwise.cosine_similarity`.  For large datasets you would typically use sparse matrices and approximate nearest neighbors to scale to millions of interactions.\n"
   ]
  },
  {
   "cell_type": "code",
   "execution_count": null,
   "id": "efbebb11",
   "metadata": {},
   "outputs": [],
   "source": [
    "\n",
    "# Normalize item vectors by subtracting the mean rating per item\n",
    "item_mean = user_item_matrix.mean(axis=0)\n",
    "normalized_matrix = user_item_matrix - item_mean\n",
    "normalized_matrix = normalized_matrix.fillna(0)\n",
    "\n",
    "# Compute cosine similarity between items (transpose so items are rows)\n",
    "sim_matrix = pd.DataFrame(\n",
    "    cosine_similarity(normalized_matrix.T),\n",
    "    index=user_item_matrix.columns,\n",
    "    columns=user_item_matrix.columns\n",
    ")\n",
    "\n",
    "# For readability, show a few entries (mapping IDs to names)\n",
    "sim_matrix_named = sim_matrix.copy()\n",
    "sim_matrix_named.index = [anime_metadata.set_index('MAL_ID').loc[idx, 'Name'] for idx in sim_matrix_named.index]\n",
    "sim_matrix_named.columns = sim_matrix_named.index\n",
    "sim_matrix_named.round(2)\n"
   ]
  },
  {
   "cell_type": "markdown",
   "id": "37d4bbbb",
   "metadata": {},
   "source": [
    "\n",
    "## 4. Build the recommendation function\n",
    "\n",
    "The `recommend_anime` function accepts a list of dictionaries representing the current user's ratings.  Each dictionary has two keys: `anime_id` and `score`.  The function computes a weighted sum of similarity scores for all candidate items (those not already rated by the user) and returns the top `N` recommendations.\n",
    "\n",
    "We then merge the output with `anime_metadata` to provide a human‑readable table containing the MAL_ID, Name, Score, Type, Source and Synopsis for each recommended anime.\n"
   ]
  },
  {
   "cell_type": "code",
   "execution_count": null,
   "id": "110a4a31",
   "metadata": {},
   "outputs": [],
   "source": [
    "\n",
    "def recommend_anime(user_ratings, sim_matrix, anime_metadata, top_n=5):\n",
    "    '''\n",
    "    Generate item-based recommendations.\n",
    "\n",
    "    Parameters\n",
    "    ----------\n",
    "    user_ratings : list of dicts\n",
    "        A list where each element is {'anime_id': id, 'score': rating}.  This represents the user's past interactions.\n",
    "    sim_matrix : pd.DataFrame\n",
    "        Precomputed item–item similarity matrix with anime IDs as both index and columns.\n",
    "    anime_metadata : pd.DataFrame\n",
    "        Metadata table to enrich the recommendations.\n",
    "    top_n : int\n",
    "        Number of recommendations to return.\n",
    "\n",
    "    Returns\n",
    "    -------\n",
    "    pd.DataFrame\n",
    "        A table with MAL_ID, Name, Score, Type, Source and Synopsis for the recommended anime.\n",
    "    '''\n",
    "    user_series = pd.Series({item['anime_id']: item['score'] for item in user_ratings})\n",
    "    \n",
    "    # Accumulate scores for all items\n",
    "    scores_accum = pd.Series(0.0, index=sim_matrix.index)\n",
    "    for anime_id, rating in user_series.items():\n",
    "        if anime_id in sim_matrix.columns:\n",
    "            scores_accum += sim_matrix[anime_id] * rating\n",
    "    \n",
    "    # Remove already seen items\n",
    "    scores_accum = scores_accum.drop(labels=user_series.index, errors='ignore')\n",
    "    \n",
    "    # Select top candidates\n",
    "    top_candidates = scores_accum.sort_values(ascending=False).head(top_n)\n",
    "    \n",
    "    # Fetch metadata for the top candidates\n",
    "    recommendations = (\n",
    "        anime_metadata\n",
    "        .set_index('MAL_ID')\n",
    "        .loc[top_candidates.index]\n",
    "        .reset_index()\n",
    "        .rename(columns={'index': 'MAL_ID', 'anime_id': 'MAL_ID'})\n",
    "    )\n",
    "    \n",
    "    # Add similarity scores\n",
    "    recommendations['similarity_score'] = top_candidates.values\n",
    "    \n",
    "    return recommendations[['MAL_ID', 'Name', 'Score', 'Type', 'Source', 'Synopsis', 'similarity_score']]\n"
   ]
  },
  {
   "cell_type": "markdown",
   "id": "9f49bbb1",
   "metadata": {},
   "source": [
    "\n",
    "## 5. Test the system with a sample user\n",
    "\n",
    "Imagine a new user has finished watching three anime series and provides the following scores:\n",
    "\n",
    "```python\n",
    "input_ratings = [\n",
    "    {\"anime_id\": 20, \"score\": 10},  # Naruto\n",
    "    {\"anime_id\": 4,  \"score\": 8},   # Attack on Titan\n",
    "    {\"anime_id\": 5,  \"score\": 9},   # Steins;Gate\n",
    "]\n",
    "```\n",
    "\n",
    "The recommender should return a list of at least five anime titles that the user has not yet watched.  Below we call the function and show the results.\n"
   ]
  },
  {
   "cell_type": "code",
   "execution_count": null,
   "id": "75c7d17f",
   "metadata": {},
   "outputs": [],
   "source": [
    "\n",
    "input_ratings = [\n",
    "    {\"anime_id\": 20, \"score\": 10},\n",
    "    {\"anime_id\": 4,  \"score\": 8},\n",
    "    {\"anime_id\": 5,  \"score\": 9},\n",
    "]\n",
    "\n",
    "recommendations = recommend_anime(input_ratings, sim_matrix, anime_metadata, top_n=5)\n",
    "recommendations\n"
   ]
  },
  {
   "cell_type": "markdown",
   "id": "b252566c",
   "metadata": {},
   "source": [
    "\n",
    "## 6. Discussion and next steps\n",
    "\n",
    "This simple example illustrates how to build an item‑based collaborative filtering recommender system.  The key steps are:\n",
    "\n",
    "1. **Load and clean the data.**  Filter out incomplete or low‑quality ratings.  In this notebook we used a synthetic dataset for demonstration purposes.\n",
    "2. **Construct the user–item matrix.**  Each column represents an anime and each row a user.  Missing values are typically filled with zeros or the mean rating for that item.\n",
    "3. **Compute item–item similarities.**  Cosine similarity is a common choice.  For large datasets you would use a sparse matrix representation and consider approximate methods for scalability.\n",
    "4. **Generate recommendations.**  Aggregate the similarity scores for items the user has already rated, apply weighting by the user's own ratings, exclude items already seen, and pick the top candidates.\n",
    "\n",
    "To adapt this system for production use, consider the following improvements:\n",
    "\n",
    "- **Use the full `rating_complete.csv` dataset** to build a high‑quality similarity matrix, ensuring that only strong signals (completed anime with scores) are used.\n",
    "- **Experiment with normalization techniques** such as centering ratings by user or by item, or applying TF–IDF weighting to penalize very popular titles.\n",
    "- **Incorporate additional metadata** (genres, release year, etc.) as features for hybrid models, or to diversify recommendations.\n",
    "- **Optimize performance** by using approximate nearest neighbor libraries (e.g., `annoy`, `faiss`) or precomputing the top k similar items offline.\n",
    "\n",
    "Because the dataset used here is small, the recommendations may not always match real‑world preferences.  However, the core workflow remains the same when scaling up to millions of users and items.\n"
   ]
  }
 ],
 "metadata": {},
 "nbformat": 4,
 "nbformat_minor": 5
}
